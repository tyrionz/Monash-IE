{
 "cells": [
  {
   "cell_type": "code",
   "execution_count": 3,
   "metadata": {},
   "outputs": [
    {
     "name": "stdout",
     "output_type": "stream",
     "text": [
      "{\"cod\":\"404\",\"message\":\"city not found\"}\n"
     ]
    }
   ],
   "source": [
    "import requests\n",
    "\n",
    "url = \"https://community-open-weather-map.p.rapidapi.com/weather\"\n",
    "\n",
    "querystring = {\"callback\":\"test\",\"id\":\"2172797\",\"units\":\"%22metric%22 or %22imperial%22\",\"mode\":\"xml%2C html\",\"q\":\"Melbourne%2Cau\"}\n",
    "\n",
    "headers = {\n",
    "    'x-rapidapi-host': \"community-open-weather-map.p.rapidapi.com\",\n",
    "    'x-rapidapi-key': \"50b0b9238cmshd645040f62fa70ap136ce9jsn5ba0172070d0\"\n",
    "    }\n",
    "\n",
    "response = requests.request(\"GET\", url, headers=headers, params=querystring)\n",
    "\n",
    "print(response.text)"
   ]
  },
  {
   "cell_type": "markdown",
   "metadata": {},
   "source": [
    "## WeatherStack API"
   ]
  },
  {
   "cell_type": "code",
   "execution_count": 6,
   "metadata": {},
   "outputs": [],
   "source": [
    "import requests\n",
    "\n",
    "params = {\n",
    "  'access_key': 'ac2c5b4bea6c1ab0dfeb2928587e26ad',\n",
    "  'query': 'London, United Kingdom'\n",
    "}\n",
    "\n",
    "api_result = requests.get('https://api.weatherstack.com/current', params)\n",
    "\n",
    "api_response = api_result.json()\n",
    "\n",
    "#print(u'Current temperature in %s is %d℃' % (api_response['location']['name'], api_response['current']['temperature']))"
   ]
  },
  {
   "cell_type": "code",
   "execution_count": 7,
   "metadata": {},
   "outputs": [
    {
     "data": {
      "text/plain": [
       "{'success': False,\n",
       " 'error': {'code': 105,\n",
       "  'type': 'https_access_restricted',\n",
       "  'info': 'Access Restricted - Your current Subscription Plan does not support HTTPS Encryption.'}}"
      ]
     },
     "execution_count": 7,
     "metadata": {},
     "output_type": "execute_result"
    }
   ],
   "source": [
    "api_response"
   ]
  },
  {
   "cell_type": "code",
   "execution_count": 9,
   "metadata": {},
   "outputs": [],
   "source": [
    "import requests"
   ]
  },
  {
   "cell_type": "code",
   "execution_count": 13,
   "metadata": {},
   "outputs": [],
   "source": [
    "response = requests.get(\"https://api.weatherstack.com/current?access_key=ac2c5b4bea6c1ab0dfeb2928587e26ad&query=New%20York\")"
   ]
  },
  {
   "cell_type": "code",
   "execution_count": 14,
   "metadata": {},
   "outputs": [
    {
     "data": {
      "text/plain": [
       "<Response [200]>"
      ]
     },
     "execution_count": 14,
     "metadata": {},
     "output_type": "execute_result"
    }
   ],
   "source": [
    "response"
   ]
  },
  {
   "cell_type": "code",
   "execution_count": 15,
   "metadata": {},
   "outputs": [],
   "source": [
    "data = response.json()"
   ]
  },
  {
   "cell_type": "code",
   "execution_count": 16,
   "metadata": {},
   "outputs": [
    {
     "data": {
      "text/plain": [
       "{'success': False,\n",
       " 'error': {'code': 105,\n",
       "  'type': 'https_access_restricted',\n",
       "  'info': 'Access Restricted - Your current Subscription Plan does not support HTTPS Encryption.'}}"
      ]
     },
     "execution_count": 16,
     "metadata": {},
     "output_type": "execute_result"
    }
   ],
   "source": [
    "data"
   ]
  },
  {
   "cell_type": "code",
   "execution_count": null,
   "metadata": {},
   "outputs": [],
   "source": [
    "http://api.weatherstack.com/current?access_key=ac2c5b4bea6c1ab0dfeb2928587e26ad&query=New%20York"
   ]
  },
  {
   "cell_type": "markdown",
   "metadata": {},
   "source": [
    "## Yahoo Weather API"
   ]
  },
  {
   "cell_type": "code",
   "execution_count": 23,
   "metadata": {},
   "outputs": [],
   "source": [
    "import requests\n",
    "response = requests.get('https://weather-ydn-yql.media.yahoo.com/forecastrss?app_id=PXinNbOg&consumer_key=dj0yJmk9QXF6V3Rlb3JReG9oJmQ9WVdrOVVGaHBiazVpVDJjbWNHbzlNQT09JnM9Y29uc3VtZXJzZWNyZXQmc3Y9MCZ4PTNj&consumer_secret=43ece3de411c170adb7967ec70ffaf8d393d6790&location=sunnyvale,ca&format=json')"
   ]
  },
  {
   "cell_type": "code",
   "execution_count": 25,
   "metadata": {},
   "outputs": [
    {
     "name": "stdout",
     "output_type": "stream",
     "text": [
      "{'location': {'city': 'Usaquen', 'region': ' Cundinamarca', 'woeid': 12523609, 'country': 'Colombia', 'lat': 4.75, 'long': -74.050003, 'timezone_id': 'America/Bogota'}, 'current_observation': {'wind': {'chill': 10, 'direction': 135, 'speed': 4.0}, 'atmosphere': {'humidity': 88, 'visibility': 15.7, 'pressure': 740.0, 'rising': 0}, 'astronomy': {'sunrise': '5:44 am', 'sunset': '5:49 pm'}, 'condition': {'text': 'Partly Cloudy', 'code': 29, 'temperature': 10}, 'pubDate': 1601341200}, 'forecasts': [{'day': 'Mon', 'date': 1601269200, 'low': 5, 'high': 17, 'text': 'Rain', 'code': 12}, {'day': 'Tue', 'date': 1601355600, 'low': 6, 'high': 17, 'text': 'Mostly Cloudy', 'code': 28}, {'day': 'Wed', 'date': 1601442000, 'low': 7, 'high': 17, 'text': 'Mostly Cloudy', 'code': 28}, {'day': 'Thu', 'date': 1601528400, 'low': 7, 'high': 18, 'text': 'Mostly Cloudy', 'code': 28}, {'day': 'Fri', 'date': 1601614800, 'low': 8, 'high': 18, 'text': 'Mostly Cloudy', 'code': 28}, {'day': 'Sat', 'date': 1601701200, 'low': 8, 'high': 16, 'text': 'Rain', 'code': 12}, {'day': 'Sun', 'date': 1601787600, 'low': 8, 'high': 17, 'text': 'Mostly Cloudy', 'code': 28}, {'day': 'Mon', 'date': 1601874000, 'low': 8, 'high': 18, 'text': 'Mostly Cloudy', 'code': 28}, {'day': 'Tue', 'date': 1601960400, 'low': 7, 'high': 18, 'text': 'Mostly Cloudy', 'code': 28}, {'day': 'Wed', 'date': 1602046800, 'low': 8, 'high': 17, 'text': 'Showers', 'code': 11}]}\n"
     ]
    }
   ],
   "source": [
    "import time, uuid , json\n",
    "import urllib.request\n",
    "import hmac, hashlib\n",
    "from base64 import b64encode\n",
    "\n",
    "class yahoo_api ( object ):\n",
    "    def __init__ ( self ):\n",
    "        self.consumer_secret = '43ece3de411c170adb7967ec70ffaf8d393d6790'\n",
    "        self.url = 'https://weather-ydn-yql.media.yahoo.com/forecastrss'\n",
    "        self.method = 'GET'\n",
    "        self.app_id = 'PXinNbOg'\n",
    "        self.consumer_key = 'dj0yJmk9QXF6V3Rlb3JReG9oJmQ9WVdrOVVGaHBiazVpVDJjbWNHbzlNQT09JnM9Y29uc3VtZXJzZWNyZXQmc3Y9MCZ4PTNj'\n",
    "        self.concat = '&'        \n",
    "    def process(self):\n",
    "        #Prepare signature string (merge all params and SORT them\n",
    "        merged_params = self.query.copy()\n",
    "        merged_params.update(self.oauth)\n",
    "        sorted_params = [k + '=' + urllib.parse.quote(merged_params[k], safe='') for k in sorted(merged_params.keys())]\n",
    "        signature_base_str =  self.method + self.concat + urllib.parse.quote(self.url, safe='') + self.concat + urllib.parse.quote(self.concat.join(sorted_params), safe='')\n",
    "        #Generate signature\n",
    "        composite_key = urllib.parse.quote(self.consumer_secret, safe='') + self.concat\n",
    "        oauth_signature = b64encode(hmac.new( bytes(composite_key , 'latin-1') , bytes(signature_base_str,'latin-1'), hashlib.sha1).digest())\n",
    "        oauth_signature = oauth_signature.decode('utf-8')\n",
    "        #Prepare Authorization header\n",
    "        self.oauth['oauth_signature'] = oauth_signature\n",
    "        auth_header = 'OAuth ' + ', '.join(['{}=\"{}\"'.format(k,v) for k,v in self.oauth.items()])\n",
    "        #Send request\n",
    "        self.url = self.url + '?' + urllib.parse.urlencode(self.query)\n",
    "        opener = urllib.request.build_opener()\n",
    "        opener.addheaders = [('Authorization', auth_header),\n",
    "                             ('X-Yahoo-App-Id', self.app_id),\n",
    "                             ('Pragma', 'no-cache'),\n",
    "                             ('User-Agent', 'Mozilla/5.0')]\n",
    "        urllib.request.install_opener(opener)\n",
    "        response = urllib.request.urlopen(self.url)\n",
    "        data = response.read().decode('utf-8')\n",
    "        del response\n",
    "        del opener\n",
    "        target = json.loads(data)\n",
    "        return(target)\n",
    "\n",
    "    def query_(self , location , unit = 'c'):\n",
    "        # Location is the name of location (e.g. Moscow) , unit is the temp unit (C or F)\n",
    "        # Returns a dictionary of weather data\n",
    "        self.query = {'location': location, 'format': 'json' , 'u' : unit}\n",
    "        self.url = 'https://weather-ydn-yql.media.yahoo.com/forecastrss'\n",
    "        self.oauth = {\n",
    "        'oauth_consumer_key': self.consumer_key,\n",
    "        'oauth_nonce': uuid.uuid4().hex,\n",
    "        'oauth_signature_method': 'HMAC-SHA1',\n",
    "        'oauth_timestamp': str(int(time.time())),\n",
    "        'oauth_version': '1.0'\n",
    "        }\n",
    "        return(self.process())\n",
    "\n",
    "if __name__ == \"__main__\":\n",
    "    obj = yahoo_api()\n",
    "    data = obj.query_(\"lat=37.372&lon=-122.038\")\n",
    "    print(data)"
   ]
  },
  {
   "cell_type": "code",
   "execution_count": 26,
   "metadata": {},
   "outputs": [
    {
     "data": {
      "text/plain": [
       "{'location': {'city': 'Usaquen',\n",
       "  'region': ' Cundinamarca',\n",
       "  'woeid': 12523609,\n",
       "  'country': 'Colombia',\n",
       "  'lat': 4.75,\n",
       "  'long': -74.050003,\n",
       "  'timezone_id': 'America/Bogota'},\n",
       " 'current_observation': {'wind': {'chill': 10, 'direction': 135, 'speed': 4.0},\n",
       "  'atmosphere': {'humidity': 88,\n",
       "   'visibility': 15.7,\n",
       "   'pressure': 740.0,\n",
       "   'rising': 0},\n",
       "  'astronomy': {'sunrise': '5:44 am', 'sunset': '5:49 pm'},\n",
       "  'condition': {'text': 'Partly Cloudy', 'code': 29, 'temperature': 10},\n",
       "  'pubDate': 1601341200},\n",
       " 'forecasts': [{'day': 'Mon',\n",
       "   'date': 1601269200,\n",
       "   'low': 5,\n",
       "   'high': 17,\n",
       "   'text': 'Rain',\n",
       "   'code': 12},\n",
       "  {'day': 'Tue',\n",
       "   'date': 1601355600,\n",
       "   'low': 6,\n",
       "   'high': 17,\n",
       "   'text': 'Mostly Cloudy',\n",
       "   'code': 28},\n",
       "  {'day': 'Wed',\n",
       "   'date': 1601442000,\n",
       "   'low': 7,\n",
       "   'high': 17,\n",
       "   'text': 'Mostly Cloudy',\n",
       "   'code': 28},\n",
       "  {'day': 'Thu',\n",
       "   'date': 1601528400,\n",
       "   'low': 7,\n",
       "   'high': 18,\n",
       "   'text': 'Mostly Cloudy',\n",
       "   'code': 28},\n",
       "  {'day': 'Fri',\n",
       "   'date': 1601614800,\n",
       "   'low': 8,\n",
       "   'high': 18,\n",
       "   'text': 'Mostly Cloudy',\n",
       "   'code': 28},\n",
       "  {'day': 'Sat',\n",
       "   'date': 1601701200,\n",
       "   'low': 8,\n",
       "   'high': 16,\n",
       "   'text': 'Rain',\n",
       "   'code': 12},\n",
       "  {'day': 'Sun',\n",
       "   'date': 1601787600,\n",
       "   'low': 8,\n",
       "   'high': 17,\n",
       "   'text': 'Mostly Cloudy',\n",
       "   'code': 28},\n",
       "  {'day': 'Mon',\n",
       "   'date': 1601874000,\n",
       "   'low': 8,\n",
       "   'high': 18,\n",
       "   'text': 'Mostly Cloudy',\n",
       "   'code': 28},\n",
       "  {'day': 'Tue',\n",
       "   'date': 1601960400,\n",
       "   'low': 7,\n",
       "   'high': 18,\n",
       "   'text': 'Mostly Cloudy',\n",
       "   'code': 28},\n",
       "  {'day': 'Wed',\n",
       "   'date': 1602046800,\n",
       "   'low': 8,\n",
       "   'high': 17,\n",
       "   'text': 'Showers',\n",
       "   'code': 11}]}"
      ]
     },
     "execution_count": 26,
     "metadata": {},
     "output_type": "execute_result"
    }
   ],
   "source": [
    "data"
   ]
  },
  {
   "cell_type": "code",
   "execution_count": null,
   "metadata": {},
   "outputs": [],
   "source": []
  }
 ],
 "metadata": {
  "kernelspec": {
   "display_name": "Python 3",
   "language": "python",
   "name": "python3"
  },
  "language_info": {
   "codemirror_mode": {
    "name": "ipython",
    "version": 3
   },
   "file_extension": ".py",
   "mimetype": "text/x-python",
   "name": "python",
   "nbconvert_exporter": "python",
   "pygments_lexer": "ipython3",
   "version": "3.8.3"
  }
 },
 "nbformat": 4,
 "nbformat_minor": 4
}
