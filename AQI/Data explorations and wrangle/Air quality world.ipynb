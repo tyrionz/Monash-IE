{
 "cells": [
  {
   "cell_type": "code",
   "execution_count": 14,
   "metadata": {},
   "outputs": [],
   "source": [
    "import requests"
   ]
  },
  {
   "cell_type": "code",
   "execution_count": 15,
   "metadata": {},
   "outputs": [],
   "source": [
    "response = requests.get(\"https://api.waqi.info/feed/melbourne/?token=793555a685454d5bed6179dc3abe21b241a372ae\")"
   ]
  },
  {
   "cell_type": "code",
   "execution_count": 16,
   "metadata": {},
   "outputs": [],
   "source": [
    "data = response.json()"
   ]
  },
  {
   "cell_type": "code",
   "execution_count": 23,
   "metadata": {},
   "outputs": [],
   "source": [
    "main_data = data.get('data')"
   ]
  },
  {
   "cell_type": "code",
   "execution_count": 30,
   "metadata": {},
   "outputs": [
    {
     "data": {
      "text/plain": [
       "{'geo': [-37.8073959, 144.97],\n",
       " 'name': 'Melbourne CBD',\n",
       " 'url': 'https://aqicn.org/city/australia/melbourne/melbourne-cbd'}"
      ]
     },
     "execution_count": 30,
     "metadata": {},
     "output_type": "execute_result"
    }
   ],
   "source": [
    "main_data.get('city')"
   ]
  },
  {
   "cell_type": "code",
   "execution_count": 25,
   "metadata": {
    "scrolled": true
   },
   "outputs": [
    {
     "data": {
      "text/plain": [
       "{'aqi': 2,\n",
       " 'idx': 10141,\n",
       " 'attributions': [{'url': 'http://epa.vic.gov.au/',\n",
       "   'name': 'Environment Protection Authority | EPA Victoria',\n",
       "   'logo': 'Australia-Victoria.png'},\n",
       "  {'url': 'https://waqi.info/', 'name': 'World Air Quality Index Project'}],\n",
       " 'city': {'geo': [-37.8073959, 144.97],\n",
       "  'name': 'Melbourne CBD',\n",
       "  'url': 'https://aqicn.org/city/australia/melbourne/melbourne-cbd'},\n",
       " 'dominentpol': 'pm25',\n",
       " 'iaqi': {'co': {'v': 0.7},\n",
       "  'dew': {'v': 7.2},\n",
       "  'h': {'v': 55.2},\n",
       "  'no2': {'v': 3.8},\n",
       "  'o3': {'v': 14.5},\n",
       "  'p': {'v': 1008.5},\n",
       "  'pm10': {'v': 11},\n",
       "  'pm25': {'v': 2},\n",
       "  'r': {'v': 0.1},\n",
       "  'so2': {'v': 1.1},\n",
       "  't': {'v': 16.2},\n",
       "  'w': {'v': 1.5}},\n",
       " 'time': {'s': '2020-09-02 23:00:00',\n",
       "  'tz': '+10:00',\n",
       "  'v': 1599087600,\n",
       "  'iso': '2020-09-02T23:00:00+10:00'},\n",
       " 'forecast': {'daily': {'o3': [{'avg': 3,\n",
       "     'day': '2020-08-31',\n",
       "     'max': 11,\n",
       "     'min': 1},\n",
       "    {'avg': 8, 'day': '2020-09-01', 'max': 17, 'min': 1},\n",
       "    {'avg': 15, 'day': '2020-09-02', 'max': 20, 'min': 5},\n",
       "    {'avg': 10, 'day': '2020-09-03', 'max': 17, 'min': 2},\n",
       "    {'avg': 4, 'day': '2020-09-04', 'max': 13, 'min': 1},\n",
       "    {'avg': 6, 'day': '2020-09-05', 'max': 19, 'min': 1},\n",
       "    {'avg': 7, 'day': '2020-09-06', 'max': 10, 'min': 6}],\n",
       "   'pm10': [{'avg': 13, 'day': '2020-08-31', 'max': 15, 'min': 6},\n",
       "    {'avg': 13, 'day': '2020-09-01', 'max': 17, 'min': 9},\n",
       "    {'avg': 20, 'day': '2020-09-02', 'max': 39, 'min': 8},\n",
       "    {'avg': 16, 'day': '2020-09-03', 'max': 34, 'min': 6},\n",
       "    {'avg': 12, 'day': '2020-09-04', 'max': 15, 'min': 5},\n",
       "    {'avg': 10, 'day': '2020-09-05', 'max': 13, 'min': 6},\n",
       "    {'avg': 8, 'day': '2020-09-06', 'max': 8, 'min': 7}],\n",
       "   'pm25': [{'avg': 16, 'day': '2020-08-31', 'max': 18, 'min': 11},\n",
       "    {'avg': 23, 'day': '2020-09-01', 'max': 32, 'min': 12},\n",
       "    {'avg': 25, 'day': '2020-09-02', 'max': 38, 'min': 16},\n",
       "    {'avg': 21, 'day': '2020-09-03', 'max': 43, 'min': 11},\n",
       "    {'avg': 19, 'day': '2020-09-04', 'max': 26, 'min': 9},\n",
       "    {'avg': 16, 'day': '2020-09-05', 'max': 28, 'min': 10},\n",
       "    {'avg': 14, 'day': '2020-09-06', 'max': 14, 'min': 13}],\n",
       "   'uvi': [{'avg': 0, 'day': '2020-09-02', 'max': 4, 'min': 0},\n",
       "    {'avg': 1, 'day': '2020-09-03', 'max': 4, 'min': 0},\n",
       "    {'avg': 1, 'day': '2020-09-04', 'max': 3, 'min': 0},\n",
       "    {'avg': 1, 'day': '2020-09-05', 'max': 4, 'min': 0},\n",
       "    {'avg': 1, 'day': '2020-09-06', 'max': 5, 'min': 0},\n",
       "    {'avg': 1, 'day': '2020-09-07', 'max': 3, 'min': 0}]}},\n",
       " 'debug': {'sync': '2020-09-02T22:22:26+09:00'}}"
      ]
     },
     "execution_count": 25,
     "metadata": {},
     "output_type": "execute_result"
    }
   ],
   "source": [
    "main_data"
   ]
  },
  {
   "cell_type": "markdown",
   "metadata": {},
   "source": [
    "## Geolocation API"
   ]
  },
  {
   "cell_type": "code",
   "execution_count": 1,
   "metadata": {},
   "outputs": [],
   "source": [
    "import requests\n",
    "response = requests.get(\"https://api.waqi.info/feed/geo:-37.8821;144.9821/?token=793555a685454d5bed6179dc3abe21b241a372ae\")"
   ]
  },
  {
   "cell_type": "code",
   "execution_count": 2,
   "metadata": {},
   "outputs": [],
   "source": [
    "data = response.json()"
   ]
  },
  {
   "cell_type": "code",
   "execution_count": 3,
   "metadata": {},
   "outputs": [
    {
     "data": {
      "text/plain": [
       "{'status': 'ok',\n",
       " 'data': {'aqi': 5,\n",
       "  'idx': 3236,\n",
       "  'attributions': [{'url': 'http://epa.vic.gov.au/',\n",
       "    'name': 'Environment Protection Authority | EPA Victoria',\n",
       "    'logo': 'Australia-Victoria.png'},\n",
       "   {'url': 'https://waqi.info/', 'name': 'World Air Quality Index Project'}],\n",
       "  'city': {'geo': [-37.9135475, 144.998],\n",
       "   'name': 'Brighton',\n",
       "   'url': 'https://aqicn.org/city/australia/melbourne/brighton'},\n",
       "  'dominentpol': 'pm25',\n",
       "  'iaqi': {'co': {'v': 0.7},\n",
       "   'h': {'v': 51.3},\n",
       "   'no2': {'v': 3.8},\n",
       "   'o3': {'v': 14.5},\n",
       "   'p': {'v': 1024.6},\n",
       "   'pm10': {'v': 11},\n",
       "   'pm25': {'v': 5},\n",
       "   'so2': {'v': 1.1},\n",
       "   't': {'v': 18.8},\n",
       "   'w': {'v': 11.3},\n",
       "   'wg': {'v': 23.3}},\n",
       "  'time': {'s': '2020-09-11 12:00:00',\n",
       "   'tz': '+10:00',\n",
       "   'v': 1599825600,\n",
       "   'iso': '2020-09-11T12:00:00+10:00'},\n",
       "  'forecast': {'daily': {'o3': [{'avg': 6,\n",
       "      'day': '2020-09-09',\n",
       "      'max': 12,\n",
       "      'min': 3},\n",
       "     {'avg': 3, 'day': '2020-09-10', 'max': 18, 'min': 1},\n",
       "     {'avg': 14, 'day': '2020-09-11', 'max': 23, 'min': 1},\n",
       "     {'avg': 14, 'day': '2020-09-12', 'max': 19, 'min': 8},\n",
       "     {'avg': 10, 'day': '2020-09-13', 'max': 22, 'min': 6},\n",
       "     {'avg': 9, 'day': '2020-09-14', 'max': 18, 'min': 4},\n",
       "     {'avg': 7, 'day': '2020-09-15', 'max': 19, 'min': 1},\n",
       "     {'avg': 10, 'day': '2020-09-16', 'max': 16, 'min': 1}],\n",
       "    'pm10': [{'avg': 10, 'day': '2020-09-09', 'max': 14, 'min': 7},\n",
       "     {'avg': 16, 'day': '2020-09-10', 'max': 25, 'min': 8},\n",
       "     {'avg': 9, 'day': '2020-09-11', 'max': 13, 'min': 6},\n",
       "     {'avg': 7, 'day': '2020-09-12', 'max': 9, 'min': 6},\n",
       "     {'avg': 9, 'day': '2020-09-13', 'max': 11, 'min': 6},\n",
       "     {'avg': 17, 'day': '2020-09-14', 'max': 22, 'min': 5},\n",
       "     {'avg': 21, 'day': '2020-09-15', 'max': 23, 'min': 14},\n",
       "     {'avg': 17, 'day': '2020-09-16', 'max': 23, 'min': 15}],\n",
       "    'pm25': [{'avg': 12, 'day': '2020-09-09', 'max': 18, 'min': 8},\n",
       "     {'avg': 26, 'day': '2020-09-10', 'max': 36, 'min': 8},\n",
       "     {'avg': 18, 'day': '2020-09-11', 'max': 28, 'min': 12},\n",
       "     {'avg': 15, 'day': '2020-09-12', 'max': 19, 'min': 11},\n",
       "     {'avg': 13, 'day': '2020-09-13', 'max': 18, 'min': 11},\n",
       "     {'avg': 24, 'day': '2020-09-14', 'max': 35, 'min': 7},\n",
       "     {'avg': 31, 'day': '2020-09-15', 'max': 32, 'min': 28}],\n",
       "    'uvi': [{'avg': 1, 'day': '2020-09-11', 'max': 4, 'min': 0},\n",
       "     {'avg': 0, 'day': '2020-09-12', 'max': 1, 'min': 0},\n",
       "     {'avg': 0, 'day': '2020-09-13', 'max': 2, 'min': 0},\n",
       "     {'avg': 1, 'day': '2020-09-14', 'max': 3, 'min': 0},\n",
       "     {'avg': 1, 'day': '2020-09-15', 'max': 5, 'min': 0}]}},\n",
       "  'debug': {'sync': '2020-09-11T11:19:29+09:00'}}}"
      ]
     },
     "execution_count": 3,
     "metadata": {},
     "output_type": "execute_result"
    }
   ],
   "source": [
    "data"
   ]
  },
  {
   "cell_type": "code",
   "execution_count": 4,
   "metadata": {},
   "outputs": [],
   "source": [
    "air_data = data.get('data')"
   ]
  },
  {
   "cell_type": "code",
   "execution_count": 5,
   "metadata": {},
   "outputs": [
    {
     "data": {
      "text/plain": [
       "{'aqi': 5,\n",
       " 'idx': 3236,\n",
       " 'attributions': [{'url': 'http://epa.vic.gov.au/',\n",
       "   'name': 'Environment Protection Authority | EPA Victoria',\n",
       "   'logo': 'Australia-Victoria.png'},\n",
       "  {'url': 'https://waqi.info/', 'name': 'World Air Quality Index Project'}],\n",
       " 'city': {'geo': [-37.9135475, 144.998],\n",
       "  'name': 'Brighton',\n",
       "  'url': 'https://aqicn.org/city/australia/melbourne/brighton'},\n",
       " 'dominentpol': 'pm25',\n",
       " 'iaqi': {'co': {'v': 0.7},\n",
       "  'h': {'v': 51.3},\n",
       "  'no2': {'v': 3.8},\n",
       "  'o3': {'v': 14.5},\n",
       "  'p': {'v': 1024.6},\n",
       "  'pm10': {'v': 11},\n",
       "  'pm25': {'v': 5},\n",
       "  'so2': {'v': 1.1},\n",
       "  't': {'v': 18.8},\n",
       "  'w': {'v': 11.3},\n",
       "  'wg': {'v': 23.3}},\n",
       " 'time': {'s': '2020-09-11 12:00:00',\n",
       "  'tz': '+10:00',\n",
       "  'v': 1599825600,\n",
       "  'iso': '2020-09-11T12:00:00+10:00'},\n",
       " 'forecast': {'daily': {'o3': [{'avg': 6,\n",
       "     'day': '2020-09-09',\n",
       "     'max': 12,\n",
       "     'min': 3},\n",
       "    {'avg': 3, 'day': '2020-09-10', 'max': 18, 'min': 1},\n",
       "    {'avg': 14, 'day': '2020-09-11', 'max': 23, 'min': 1},\n",
       "    {'avg': 14, 'day': '2020-09-12', 'max': 19, 'min': 8},\n",
       "    {'avg': 10, 'day': '2020-09-13', 'max': 22, 'min': 6},\n",
       "    {'avg': 9, 'day': '2020-09-14', 'max': 18, 'min': 4},\n",
       "    {'avg': 7, 'day': '2020-09-15', 'max': 19, 'min': 1},\n",
       "    {'avg': 10, 'day': '2020-09-16', 'max': 16, 'min': 1}],\n",
       "   'pm10': [{'avg': 10, 'day': '2020-09-09', 'max': 14, 'min': 7},\n",
       "    {'avg': 16, 'day': '2020-09-10', 'max': 25, 'min': 8},\n",
       "    {'avg': 9, 'day': '2020-09-11', 'max': 13, 'min': 6},\n",
       "    {'avg': 7, 'day': '2020-09-12', 'max': 9, 'min': 6},\n",
       "    {'avg': 9, 'day': '2020-09-13', 'max': 11, 'min': 6},\n",
       "    {'avg': 17, 'day': '2020-09-14', 'max': 22, 'min': 5},\n",
       "    {'avg': 21, 'day': '2020-09-15', 'max': 23, 'min': 14},\n",
       "    {'avg': 17, 'day': '2020-09-16', 'max': 23, 'min': 15}],\n",
       "   'pm25': [{'avg': 12, 'day': '2020-09-09', 'max': 18, 'min': 8},\n",
       "    {'avg': 26, 'day': '2020-09-10', 'max': 36, 'min': 8},\n",
       "    {'avg': 18, 'day': '2020-09-11', 'max': 28, 'min': 12},\n",
       "    {'avg': 15, 'day': '2020-09-12', 'max': 19, 'min': 11},\n",
       "    {'avg': 13, 'day': '2020-09-13', 'max': 18, 'min': 11},\n",
       "    {'avg': 24, 'day': '2020-09-14', 'max': 35, 'min': 7},\n",
       "    {'avg': 31, 'day': '2020-09-15', 'max': 32, 'min': 28}],\n",
       "   'uvi': [{'avg': 1, 'day': '2020-09-11', 'max': 4, 'min': 0},\n",
       "    {'avg': 0, 'day': '2020-09-12', 'max': 1, 'min': 0},\n",
       "    {'avg': 0, 'day': '2020-09-13', 'max': 2, 'min': 0},\n",
       "    {'avg': 1, 'day': '2020-09-14', 'max': 3, 'min': 0},\n",
       "    {'avg': 1, 'day': '2020-09-15', 'max': 5, 'min': 0}]}},\n",
       " 'debug': {'sync': '2020-09-11T11:19:29+09:00'}}"
      ]
     },
     "execution_count": 5,
     "metadata": {},
     "output_type": "execute_result"
    }
   ],
   "source": [
    "air_data"
   ]
  },
  {
   "cell_type": "code",
   "execution_count": 10,
   "metadata": {},
   "outputs": [],
   "source": [
    "aqi = air_data.get('aqi')"
   ]
  },
  {
   "cell_type": "code",
   "execution_count": 11,
   "metadata": {},
   "outputs": [],
   "source": [
    "data_organization = air_data.get('attributions')"
   ]
  },
  {
   "cell_type": "code",
   "execution_count": 13,
   "metadata": {},
   "outputs": [],
   "source": [
    "city_info = air_data.get('city')"
   ]
  },
  {
   "cell_type": "code",
   "execution_count": 15,
   "metadata": {},
   "outputs": [],
   "source": [
    "main_pollutant = air_data.get('dominentpol')"
   ]
  },
  {
   "cell_type": "code",
   "execution_count": 18,
   "metadata": {},
   "outputs": [],
   "source": [
    "all_pollutants = air_data.get('iaqi')"
   ]
  },
  {
   "cell_type": "markdown",
   "metadata": {},
   "source": [
    "## Application"
   ]
  },
  {
   "cell_type": "markdown",
   "metadata": {},
   "source": [
    "https://www.health.nsw.gov.au/environment/air/Pages/aqi.aspx"
   ]
  },
  {
   "cell_type": "code",
   "execution_count": 6,
   "metadata": {},
   "outputs": [],
   "source": [
    "def determine_severity(aqi):\n",
    "    severity = ''\n",
    "    if aqi >= 200:\n",
    "        severity = 'Hazardous'\n",
    "    elif aqi >= 150:\n",
    "        severity = 'Very poor'\n",
    "    elif aqi >= 100:\n",
    "        severity = 'Poor'\n",
    "    elif aqi >= 67:\n",
    "        severity = 'Fair'\n",
    "    elif aqi >= 34:\n",
    "        severity = 'Good'\n",
    "    elif aqi >= 0:\n",
    "        severity = 'Very good'\n",
    "    return severity"
   ]
  },
  {
   "cell_type": "code",
   "execution_count": 7,
   "metadata": {},
   "outputs": [],
   "source": [
    "def suggest_activity(severity):\n",
    "    suggestion = ''\n",
    "    if severity == 'Good' or severity == 'Very good':\n",
    "        suggestion = 'Safe to go out with infants'\n",
    "    elif severity == 'Fair':\n",
    "        suggestion = 'Reduce or reschedule outdoor activities with infants'\n",
    "    elif severity == 'Poor':\n",
    "        suggestion = 'Not recommend outdoor activities with infants'\n",
    "    elif severity == 'Very poor' or severity == 'Hazardous':\n",
    "        suggestion = 'Reschedule outdoor activities with infants'\n",
    "    return suggestion"
   ]
  },
  {
   "cell_type": "code",
   "execution_count": 11,
   "metadata": {},
   "outputs": [
    {
     "data": {
      "text/plain": [
       "'Safe to go out with infants'"
      ]
     },
     "execution_count": 11,
     "metadata": {},
     "output_type": "execute_result"
    }
   ],
   "source": [
    "suggest_activity(determine_severity(aqi))"
   ]
  }
 ],
 "metadata": {
  "kernelspec": {
   "display_name": "Python 3",
   "language": "python",
   "name": "python3"
  },
  "language_info": {
   "codemirror_mode": {
    "name": "ipython",
    "version": 3
   },
   "file_extension": ".py",
   "mimetype": "text/x-python",
   "name": "python",
   "nbconvert_exporter": "python",
   "pygments_lexer": "ipython3",
   "version": "3.8.3"
  }
 },
 "nbformat": 4,
 "nbformat_minor": 4
}
