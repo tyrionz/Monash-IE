{
 "cells": [
  {
   "cell_type": "code",
   "execution_count": 1,
   "metadata": {},
   "outputs": [],
   "source": [
    "import pandas as pd"
   ]
  },
  {
   "cell_type": "code",
   "execution_count": 13,
   "metadata": {},
   "outputs": [],
   "source": [
    "data = pd.read_excel('Principal_diagnosis_data_cube_2017-18.xlsx', sheet_name=1, skiprows=[0,1,2], header=1)"
   ]
  },
  {
   "cell_type": "code",
   "execution_count": 14,
   "metadata": {},
   "outputs": [
    {
     "data": {
      "text/html": [
       "<div>\n",
       "<style scoped>\n",
       "    .dataframe tbody tr th:only-of-type {\n",
       "        vertical-align: middle;\n",
       "    }\n",
       "\n",
       "    .dataframe tbody tr th {\n",
       "        vertical-align: top;\n",
       "    }\n",
       "\n",
       "    .dataframe thead th {\n",
       "        text-align: right;\n",
       "    }\n",
       "</style>\n",
       "<table border=\"1\" class=\"dataframe\">\n",
       "  <thead>\n",
       "    <tr style=\"text-align: right;\">\n",
       "      <th></th>\n",
       "      <th>Diagnosis chapter</th>\n",
       "      <th>Diagnosis subchapter</th>\n",
       "      <th>3 digit diagnosis</th>\n",
       "      <th>4 digit diagnosis</th>\n",
       "      <th>5 digit diagnosis</th>\n",
       "      <th>Age Group</th>\n",
       "      <th>Sex</th>\n",
       "      <th>Same-day Flag</th>\n",
       "      <th>Separations</th>\n",
       "      <th>Patient Days</th>\n",
       "    </tr>\n",
       "  </thead>\n",
       "  <tbody>\n",
       "    <tr>\n",
       "      <th>0</th>\n",
       "      <td>A00–B99 Certain infectious and parasitic diseases</td>\n",
       "      <td>A00–A09 Intestinal infectious diseases</td>\n",
       "      <td>A01 Typhoid and paratyphoid fevers</td>\n",
       "      <td>A01.0 Typhoid fever</td>\n",
       "      <td>A01.0 no 5-character resolution</td>\n",
       "      <td>01- Age under 1</td>\n",
       "      <td>1- Male</td>\n",
       "      <td>2- Overnight</td>\n",
       "      <td>2</td>\n",
       "      <td>9</td>\n",
       "    </tr>\n",
       "    <tr>\n",
       "      <th>1</th>\n",
       "      <td>A00–B99 Certain infectious and parasitic diseases</td>\n",
       "      <td>A00–A09 Intestinal infectious diseases</td>\n",
       "      <td>A01 Typhoid and paratyphoid fevers</td>\n",
       "      <td>A01.0 Typhoid fever</td>\n",
       "      <td>A01.0 no 5-character resolution</td>\n",
       "      <td>02- Age 1-4 yrs</td>\n",
       "      <td>1- Male</td>\n",
       "      <td>1- Sameday</td>\n",
       "      <td>1</td>\n",
       "      <td>1</td>\n",
       "    </tr>\n",
       "    <tr>\n",
       "      <th>2</th>\n",
       "      <td>A00–B99 Certain infectious and parasitic diseases</td>\n",
       "      <td>A00–A09 Intestinal infectious diseases</td>\n",
       "      <td>A01 Typhoid and paratyphoid fevers</td>\n",
       "      <td>A01.0 Typhoid fever</td>\n",
       "      <td>A01.0 no 5-character resolution</td>\n",
       "      <td>02- Age 1-4 yrs</td>\n",
       "      <td>1- Male</td>\n",
       "      <td>2- Overnight</td>\n",
       "      <td>8</td>\n",
       "      <td>35</td>\n",
       "    </tr>\n",
       "    <tr>\n",
       "      <th>3</th>\n",
       "      <td>A00–B99 Certain infectious and parasitic diseases</td>\n",
       "      <td>A00–A09 Intestinal infectious diseases</td>\n",
       "      <td>A01 Typhoid and paratyphoid fevers</td>\n",
       "      <td>A01.0 Typhoid fever</td>\n",
       "      <td>A01.0 no 5-character resolution</td>\n",
       "      <td>02- Age 1-4 yrs</td>\n",
       "      <td>2- Female</td>\n",
       "      <td>2- Overnight</td>\n",
       "      <td>8</td>\n",
       "      <td>44</td>\n",
       "    </tr>\n",
       "    <tr>\n",
       "      <th>4</th>\n",
       "      <td>A00–B99 Certain infectious and parasitic diseases</td>\n",
       "      <td>A00–A09 Intestinal infectious diseases</td>\n",
       "      <td>A01 Typhoid and paratyphoid fevers</td>\n",
       "      <td>A01.0 Typhoid fever</td>\n",
       "      <td>A01.0 no 5-character resolution</td>\n",
       "      <td>03- Age 5-9 yrs</td>\n",
       "      <td>1- Male</td>\n",
       "      <td>2- Overnight</td>\n",
       "      <td>8</td>\n",
       "      <td>45</td>\n",
       "    </tr>\n",
       "  </tbody>\n",
       "</table>\n",
       "</div>"
      ],
      "text/plain": [
       "                                   Diagnosis chapter  \\\n",
       "0  A00–B99 Certain infectious and parasitic diseases   \n",
       "1  A00–B99 Certain infectious and parasitic diseases   \n",
       "2  A00–B99 Certain infectious and parasitic diseases   \n",
       "3  A00–B99 Certain infectious and parasitic diseases   \n",
       "4  A00–B99 Certain infectious and parasitic diseases   \n",
       "\n",
       "                     Diagnosis subchapter                   3 digit diagnosis  \\\n",
       "0  A00–A09 Intestinal infectious diseases  A01 Typhoid and paratyphoid fevers   \n",
       "1  A00–A09 Intestinal infectious diseases  A01 Typhoid and paratyphoid fevers   \n",
       "2  A00–A09 Intestinal infectious diseases  A01 Typhoid and paratyphoid fevers   \n",
       "3  A00–A09 Intestinal infectious diseases  A01 Typhoid and paratyphoid fevers   \n",
       "4  A00–A09 Intestinal infectious diseases  A01 Typhoid and paratyphoid fevers   \n",
       "\n",
       "     4 digit diagnosis                5 digit diagnosis        Age Group  \\\n",
       "0  A01.0 Typhoid fever  A01.0 no 5-character resolution  01- Age under 1   \n",
       "1  A01.0 Typhoid fever  A01.0 no 5-character resolution  02- Age 1-4 yrs   \n",
       "2  A01.0 Typhoid fever  A01.0 no 5-character resolution  02- Age 1-4 yrs   \n",
       "3  A01.0 Typhoid fever  A01.0 no 5-character resolution  02- Age 1-4 yrs   \n",
       "4  A01.0 Typhoid fever  A01.0 no 5-character resolution  03- Age 5-9 yrs   \n",
       "\n",
       "         Sex Same-day Flag  Separations  Patient Days  \n",
       "0    1- Male  2- Overnight            2             9  \n",
       "1    1- Male    1- Sameday            1             1  \n",
       "2    1- Male  2- Overnight            8            35  \n",
       "3  2- Female  2- Overnight            8            44  \n",
       "4    1- Male  2- Overnight            8            45  "
      ]
     },
     "execution_count": 14,
     "metadata": {},
     "output_type": "execute_result"
    }
   ],
   "source": [
    "data.head()"
   ]
  },
  {
   "cell_type": "code",
   "execution_count": 15,
   "metadata": {},
   "outputs": [
    {
     "data": {
      "text/plain": [
       "Index(['Diagnosis chapter', 'Diagnosis subchapter', '3 digit diagnosis',\n",
       "       '4 digit diagnosis', '5 digit diagnosis', 'Age Group', 'Sex',\n",
       "       'Same-day Flag', 'Separations', 'Patient Days'],\n",
       "      dtype='object')"
      ]
     },
     "execution_count": 15,
     "metadata": {},
     "output_type": "execute_result"
    }
   ],
   "source": [
    "data.columns"
   ]
  },
  {
   "cell_type": "code",
   "execution_count": 33,
   "metadata": {
    "scrolled": true
   },
   "outputs": [],
   "source": [
    "h66 = data.loc[(data['3 digit diagnosis'].str.contains('H66')) & ((data['Age Group'] == '01- Age under 1') | (data['Age Group'] == '02- Age 1-4 yrs')) ]"
   ]
  },
  {
   "cell_type": "code",
   "execution_count": 38,
   "metadata": {},
   "outputs": [],
   "source": [
    "j02 = data.loc[(data['3 digit diagnosis'].str.contains('J02')) & ((data['Age Group'] == '01- Age under 1') | (data['Age Group'] == '02- Age 1-4 yrs'))]"
   ]
  },
  {
   "cell_type": "code",
   "execution_count": 39,
   "metadata": {},
   "outputs": [],
   "source": [
    "j03 = data.loc[(data['3 digit diagnosis'].str.contains('J03')) & ((data['Age Group'] == '01- Age under 1') | (data['Age Group'] == '02- Age 1-4 yrs'))]"
   ]
  },
  {
   "cell_type": "code",
   "execution_count": 41,
   "metadata": {},
   "outputs": [],
   "source": [
    "j06 = data.loc[(data['3 digit diagnosis'].str.contains('J06')) & ((data['Age Group'] == '01- Age under 1') | (data['Age Group'] == '02- Age 1-4 yrs'))]"
   ]
  },
  {
   "cell_type": "code",
   "execution_count": 40,
   "metadata": {},
   "outputs": [],
   "source": [
    "j312 = data.loc[(data['4 digit diagnosis'].str.contains('J31.2')) & ((data['Age Group'] == '01- Age under 1') | (data['Age Group'] == '02- Age 1-4 yrs'))]"
   ]
  },
  {
   "cell_type": "code",
   "execution_count": 49,
   "metadata": {},
   "outputs": [],
   "source": [
    "test = data.loc[(data['3 digit diagnosis'].str.contains('J02')) & data['Age Group'].str.contains('01- Age under 1|02- Age 1-4 yrs')]"
   ]
  },
  {
   "cell_type": "code",
   "execution_count": 55,
   "metadata": {},
   "outputs": [],
   "source": [
    "total_records = len(h66) + len(j02) + len(j03) + len(j06) + len(j312)"
   ]
  },
  {
   "cell_type": "code",
   "execution_count": 58,
   "metadata": {},
   "outputs": [],
   "source": [
    "disease_list = ['h66', 'j02', 'j03', 'j06', 'j312']"
   ]
  },
  {
   "cell_type": "code",
   "execution_count": 60,
   "metadata": {},
   "outputs": [],
   "source": [
    "risk_h66 = len(h66)/total_records"
   ]
  },
  {
   "cell_type": "code",
   "execution_count": 61,
   "metadata": {},
   "outputs": [
    {
     "data": {
      "text/plain": [
       "0.3191489361702128"
      ]
     },
     "execution_count": 61,
     "metadata": {},
     "output_type": "execute_result"
    }
   ],
   "source": [
    "risk_h66"
   ]
  },
  {
   "cell_type": "code",
   "execution_count": 62,
   "metadata": {},
   "outputs": [
    {
     "data": {
      "text/plain": [
       "0.22340425531914893"
      ]
     },
     "execution_count": 62,
     "metadata": {},
     "output_type": "execute_result"
    }
   ],
   "source": [
    "risk_j02 = len(j02)/total_records"
   ]
  },
  {
   "cell_type": "code",
   "execution_count": 63,
   "metadata": {},
   "outputs": [
    {
     "data": {
      "text/plain": [
       "0.24468085106382978"
      ]
     },
     "execution_count": 63,
     "metadata": {},
     "output_type": "execute_result"
    }
   ],
   "source": [
    "risk_j03 = len(j03)/total_records"
   ]
  },
  {
   "cell_type": "code",
   "execution_count": 64,
   "metadata": {},
   "outputs": [
    {
     "data": {
      "text/plain": [
       "0.19148936170212766"
      ]
     },
     "execution_count": 64,
     "metadata": {},
     "output_type": "execute_result"
    }
   ],
   "source": [
    "risk_j06 = len(j06)/total_records"
   ]
  },
  {
   "cell_type": "code",
   "execution_count": 65,
   "metadata": {},
   "outputs": [
    {
     "data": {
      "text/plain": [
       "0.02127659574468085"
      ]
     },
     "execution_count": 65,
     "metadata": {},
     "output_type": "execute_result"
    }
   ],
   "source": [
    "risk_j312 = len(j312)/total_records"
   ]
  }
 ],
 "metadata": {
  "kernelspec": {
   "display_name": "Python 3",
   "language": "python",
   "name": "python3"
  },
  "language_info": {
   "codemirror_mode": {
    "name": "ipython",
    "version": 3
   },
   "file_extension": ".py",
   "mimetype": "text/x-python",
   "name": "python",
   "nbconvert_exporter": "python",
   "pygments_lexer": "ipython3",
   "version": "3.8.3"
  }
 },
 "nbformat": 4,
 "nbformat_minor": 4
}
