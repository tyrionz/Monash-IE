{
 "cells": [
  {
   "cell_type": "code",
   "execution_count": 1,
   "metadata": {},
   "outputs": [],
   "source": [
    "with open('playground.txt', 'r') as rawText:\n",
    "    raw = rawText.readlines()\n",
    "    rawText.close()"
   ]
  },
  {
   "cell_type": "code",
   "execution_count": 45,
   "metadata": {},
   "outputs": [],
   "source": [
    "def capitalize_text (text):\n",
    "    # remove new line characters\n",
    "    remove_new_line = [lines.strip() for lines in text]\n",
    "    \n",
    "    # remove empty strings\n",
    "    sentence_list = [sentence for sentence in remove_new_line if sentence != '']\n",
    "    \n",
    "    # capitalize each sentence in the sentence_list\n",
    "    capitalize_sentence = [str.capitalize(sentence) for sentence in sentence_list]\n",
    "    \n",
    "    # replace comma to slash so that csv file can be generated\n",
    "    comma_to_slash = [sentence.replace(', ', ' / ') for sentence in capitalize_sentence]\n",
    "    \n",
    "    return comma_to_slash"
   ]
  },
  {
   "cell_type": "code",
   "execution_count": 46,
   "metadata": {},
   "outputs": [],
   "source": [
    "cleaned_text = capitalize_text(raw)"
   ]
  },
  {
   "cell_type": "code",
   "execution_count": 47,
   "metadata": {},
   "outputs": [],
   "source": [
    "with open('cleaned playground checklist.txt', 'w') as text:\n",
    "    text.write('\\n'.join(cleaned_text))\n",
    "    text.close()"
   ]
  },
  {
   "cell_type": "code",
   "execution_count": null,
   "metadata": {},
   "outputs": [],
   "source": []
  }
 ],
 "metadata": {
  "kernelspec": {
   "display_name": "Python 3",
   "language": "python",
   "name": "python3"
  },
  "language_info": {
   "codemirror_mode": {
    "name": "ipython",
    "version": 3
   },
   "file_extension": ".py",
   "mimetype": "text/x-python",
   "name": "python",
   "nbconvert_exporter": "python",
   "pygments_lexer": "ipython3",
   "version": "3.8.3"
  }
 },
 "nbformat": 4,
 "nbformat_minor": 4
}
